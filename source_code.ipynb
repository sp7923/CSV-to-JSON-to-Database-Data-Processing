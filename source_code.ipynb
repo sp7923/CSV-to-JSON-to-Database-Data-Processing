{
 "cells": [
  {
   "cell_type": "code",
   "execution_count": null,
   "metadata": {},
   "outputs": [],
   "source": [
    "pip install pandas"
   ]
  },
  {
   "cell_type": "code",
   "execution_count": null,
   "metadata": {},
   "outputs": [],
   "source": [
    "!pip install ipython-sql\n"
   ]
  },
  {
   "cell_type": "code",
   "execution_count": null,
   "metadata": {},
   "outputs": [],
   "source": [
    "!pip install psycopg2-binary"
   ]
  },
  {
   "cell_type": "code",
   "execution_count": null,
   "metadata": {},
   "outputs": [],
   "source": [
    "!pip install sqlalchemy"
   ]
  },
  {
   "cell_type": "code",
   "execution_count": null,
   "metadata": {},
   "outputs": [],
   "source": [
    "import glob\n",
    "import os\n",
    "import json\n",
    "import re\n",
    "import pandas as pd"
   ]
  },
  {
   "cell_type": "code",
   "execution_count": null,
   "metadata": {},
   "outputs": [],
   "source": [
    "def get_column_names(schemas,ds_name,sorting_key='column_position'):\n",
    "    column_details=schemas[ds_name]\n",
    "    columns=sorted(column_details,key=lambda col:col[sorting_key])\n",
    "    return [col['column_name'] for col in columns]"
   ]
  },
  {
   "cell_type": "code",
   "execution_count": null,
   "metadata": {},
   "outputs": [],
   "source": [
    "def read_csv(file,schemas):\n",
    "    file_path_list=re.split('[/\\\\\\]', file)\n",
    "    ds_name=file_path_list[-2]\n",
    "    file_name=file_path_list[-1]\n",
    "    columns=get_column_names(schemas, ds_name)\n",
    "    df=pd.read_csv(file,names=columns)\n",
    "    return df"
   ]
  },
  {
   "cell_type": "code",
   "execution_count": null,
   "metadata": {},
   "outputs": [],
   "source": [
    "def to_json(df,tgt_base_dir,ds_name,file_name):\n",
    "    json_file_path=f'{tgt_base_dir}/{ds_name}/{file_name}'\n",
    "    os.makedirs(f'{tgt_base_dir}/{ds_name}',exist_ok=True)\n",
    "    df.to_json(json_file_path,orient='records',lines=True)\n",
    "    "
   ]
  },
  {
   "cell_type": "code",
   "execution_count": null,
   "metadata": {},
   "outputs": [],
   "source": [
    "def file_converter(src_base_dir,tgt_base_dir,ds_name):\n",
    "   \n",
    "        schemas=json.load(open(f'{src_base_dir}/schemas.json'))\n",
    "        files=glob.glob(f'{src_base_dir}/{ds_name}/part-*')\n",
    "        for file in files:\n",
    "            df=read_csv(file, schemas)\n",
    "        file_name=re.split('[/\\\\\\]',file)[-1]\n",
    "        to_json(df,tgt_base_dir,ds_name,file_name)\n",
    "    "
   ]
  },
  {
   "cell_type": "code",
   "execution_count": null,
   "metadata": {},
   "outputs": [],
   "source": [
    "def process_files(ds_names=None):\n",
    "    src_base_dir='file://file_converter_project/project 1/data/retail_db'\n",
    "    tgt_base_dir='file://file_converter_project/project 1/data/retail_db_json'\n",
    "    schemas=json.load(open(f'{src_base_dir}/schemas.json'))\n",
    "    if not ds_names:\n",
    "        ds_names=schemas.keys()\n",
    "    for ds_name in ds_names:\n",
    "        print(f'Processing {ds_name}')\n",
    "        file_converter(src_base_dir, tgt_base_dir, ds_name)"
   ]
  },
  {
   "cell_type": "code",
   "execution_count": 115,
   "metadata": {},
   "outputs": [],
   "source": [
    "def database_input(ds_names=None):\n",
    "    src_base_dir='file://file_converter_project/project 1/data/retail_db'\n",
    "    tgt_base_dir='file://file_converter_project/project 1/data/retail_db_json'\n",
    "    schemas=json.load(open(f'{src_base_dir}/schemas.json'))\n",
    "    if not ds_names:\n",
    "        ds_names=schemas.keys()\n",
    "    for ds_name in ds_names:\n",
    "        print(f'Processing database {ds_name}')\n",
    "        file_inp(src_base_dir, tgt_base_dir, ds_name)"
   ]
  },
  {
   "cell_type": "code",
   "execution_count": 83,
   "metadata": {},
   "outputs": [],
   "source": [
    "def read_json(file,schemas):\n",
    "    file_path_list=re.split('[/\\\\\\]', file)\n",
    "    ds_name=file_path_list[-2]\n",
    "    file_name=file_path_list[-1]\n",
    "    columns=get_column_names(schemas, ds_name)\n",
    "    df=pd.read_json(file,orient='records',lines=True)\n",
    "    return df"
   ]
  },
  {
   "cell_type": "code",
   "execution_count": 84,
   "metadata": {},
   "outputs": [],
   "source": [
    "def file_inp(src_base_dir,tgt_base_dir,ds_name):\n",
    "   \n",
    "        schemas=json.load(open(f'{src_base_dir}/schemas.json'))\n",
    "        files=glob.glob(f'{tgt_base_dir}/{ds_name}/part-*')\n",
    "        for file in files:\n",
    "            df=read_json(file, schemas)\n",
    "        conn_uri='aaaaaa'\n",
    "        #put your postgresql database url\n",
    "        df.to_sql(ds_name,conn_uri,if_exists='replace',index=False)\n",
    "        \n",
    "        \n",
    "    "
   ]
  },
  {
   "cell_type": "code",
   "execution_count": 116,
   "metadata": {},
   "outputs": [
    {
     "name": "stdout",
     "output_type": "stream",
     "text": [
      "Processing departments\n",
      "Processing database departments\n"
     ]
    }
   ],
   "source": [
    "n=int(input(\"Enter the number of table you want to convert(0 for all files) : \"))\n",
    "ds_names=[]\n",
    "for i in range(0,n):\n",
    "    name=input(f\"Enter dataset no.{i+1} name : \")\n",
    "    ds_names.append(name)\n",
    "process_files(ds_names)\n",
    "database_input(ds_names)\n"
   ]
  }
 ],
 "metadata": {
  "kernelspec": {
   "display_name": "pr-venv",
   "language": "python",
   "name": "python3"
  },
  "language_info": {
   "codemirror_mode": {
    "name": "ipython",
    "version": 3
   },
   "file_extension": ".py",
   "mimetype": "text/x-python",
   "name": "python",
   "nbconvert_exporter": "python",
   "pygments_lexer": "ipython3",
   "version": "3.11.4"
  },
  "orig_nbformat": 4
 },
 "nbformat": 4,
 "nbformat_minor": 2
}
